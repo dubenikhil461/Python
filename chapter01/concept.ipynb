{
  "cells": [
    {
      "cell_type": "markdown",
      "source": [],
      "metadata": {
        "id": "q8MvOy5UhYnk"
      },
      "id": "q8MvOy5UhYnk"
    },
    {
      "cell_type": "markdown",
      "source": [
        "1]__pycache__ generate not awlays but when u use import module\n",
        "2]it is intrepreter language\n",
        "3]bytecode then compile in runtime for machine code usinf AOT compilation\n",
        "4]from importlib import reload\n",
        "  then reload(function name)(it is the where u using python shell and change the file after running function in shell and wan to see newly changes)"
      ],
      "metadata": {
        "id": "cW0OkKeHhaez"
      },
      "id": "cW0OkKeHhaez"
    },
    {
      "cell_type": "markdown",
      "source": [],
      "metadata": {
        "id": "v3grgiYMYX9-"
      },
      "id": "v3grgiYMYX9-"
    }
  ],
  "metadata": {
    "kernelspec": {
      "display_name": "Python 3",
      "name": "python3"
    },
    "language_info": {
      "name": "python"
    },
    "required_libs": [],
    "colab": {
      "provenance": []
    }
  },
  "nbformat": 4,
  "nbformat_minor": 5
}