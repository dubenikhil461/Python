{
 "cells": [
  {
   "cell_type": "code",
   "execution_count": null,
   "id": "60c7aa1a",
   "metadata": {},
   "outputs": [],
   "source": [
    "var = \"nikhildubey\"\n",
    "print(var[0])\n",
    "print(var[0:3])\n",
    "print(var[0:])\n",
    "print(var[:3])\n",
    "print(var[0:3:2]) #start:end:step last not included\n",
    "print(var[::2]) #hop by 2\n",
    "print(var[::-1])\n",
    "print(var[::-2])\n",
    "print(var[::-3])\n",
    "print(var[::-4])\n",
    "print(var[::-5])"
   ]
  },
  {
   "cell_type": "code",
   "execution_count": null,
   "id": "5a8fd452",
   "metadata": {},
   "outputs": [
    {
     "name": "stdout",
     "output_type": "stream",
     "text": [
      "nikh dubey\n",
      " nikhil dubey \n",
      " NIKHIL DUBEY \n",
      "nikhil\n",
      "1\n",
      "False\n",
      "2\n",
      "nikhil dubey\n",
      "18\n",
      " \n",
      "n\n",
      "i\n",
      "k\n",
      "h\n",
      "i\n",
      "l\n",
      " \n",
      "d\n",
      "u\n",
      "b\n",
      "e\n",
      "y\n",
      " \n",
      "hey, \"i am learning python\"\n",
      "c:\\user\\nikhil\n",
      "True\n"
     ]
    }
   ],
   "source": [
    "var = \" nikhil dubey \"\n",
    "var2 = \"nikhil dubey dubey\"\n",
    "var3 = [\"nikhil\",\"dubey\"]\n",
    "print(var.strip().replace(\"il\",''))\n",
    "print(var.lower())\n",
    "print(var.upper())\n",
    "print(var.strip().split()[0])\n",
    "print(var.find(\"nikhil\"))\n",
    " \n",
    "print(var.isdigit())\n",
    "print(var2.count(\"dubey\"))\n",
    "print(\" \".join(var3)) # \"separator\".join(list)\n",
    "print(len(var2))\n",
    "for letter in var:\n",
    "    print(letter)  #auto \\n\n",
    "\n",
    "# String with escaped double quotes inside.\n",
    "# We use \\\" to include a double quote character inside a string that is enclosed in double quotes.\n",
    "var4 = \"hey, \\\"i am learning python\\\"\" \n",
    "print(var4)\n",
    "# This will not give a \"unicodespace type error\", but it will interpret \\n as a newline character,\n",
    "# so the string will be:\n",
    "# c:\\user\n",
    "# If you want the literal backslash, use a raw string or escape the backslash:\n",
    "var5 = \"c:\\\\user\\\\nikhil\"  # or: var5 = r\"c:\\user\\nikhil\"\n",
    "var6 = r\"c:\\user\\nikhil\"   # raw string\n",
    "print(var6)\n",
    "print(\"c\" in var6)"
   ]
  }
 ],
 "metadata": {
  "kernelspec": {
   "display_name": "venv",
   "language": "python",
   "name": "python3"
  },
  "language_info": {
   "codemirror_mode": {
    "name": "ipython",
    "version": 3
   },
   "file_extension": ".py",
   "mimetype": "text/x-python",
   "name": "python",
   "nbconvert_exporter": "python",
   "pygments_lexer": "ipython3",
   "version": "3.13.7"
  }
 },
 "nbformat": 4,
 "nbformat_minor": 5
}
