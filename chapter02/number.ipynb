{
 "cells": [
  {
   "cell_type": "code",
   "execution_count": 1,
   "id": "183d230d",
   "metadata": {},
   "outputs": [
    {
     "name": "stdout",
     "output_type": "stream",
     "text": [
      "2\n",
      "-3\n",
      "2\n",
      "-2\n"
     ]
    }
   ],
   "source": [
    "import math\n",
    "#give bottom value\n",
    "print(math.floor(2.3)) \n",
    "print(math.floor(-2.3)) \n",
    "\n",
    "#give closeset to 0\n",
    "print(math.trunc(2.3))\n",
    "print(math.trunc(-2.3))"
   ]
  },
  {
   "cell_type": "code",
   "execution_count": 3,
   "id": "db7285b4",
   "metadata": {},
   "outputs": [
    {
     "name": "stdout",
     "output_type": "stream",
     "text": [
      "1606938044258990275541962092341162602522202993782792835301376\n"
     ]
    }
   ],
   "source": [
    "print(2**200)"
   ]
  },
  {
   "cell_type": "code",
   "execution_count": 4,
   "id": "dd9062da",
   "metadata": {},
   "outputs": [
    {
     "name": "stdout",
     "output_type": "stream",
     "text": [
      "0x17\n",
      "0b10111\n",
      "0o27\n"
     ]
    }
   ],
   "source": [
    "print(hex(23))\n",
    "print(bin(23))\n",
    "print(oct(23))"
   ]
  }
 ],
 "metadata": {
  "kernelspec": {
   "display_name": "myenv",
   "language": "python",
   "name": "python3"
  },
  "language_info": {
   "codemirror_mode": {
    "name": "ipython",
    "version": 3
   },
   "file_extension": ".py",
   "mimetype": "text/x-python",
   "name": "python",
   "nbconvert_exporter": "python",
   "pygments_lexer": "ipython3",
   "version": "3.13.7"
  }
 },
 "nbformat": 4,
 "nbformat_minor": 5
}
