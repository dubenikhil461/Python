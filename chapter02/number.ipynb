{
 "cells": [
  {
   "cell_type": "code",
   "execution_count": null,
   "id": "183d230d",
   "metadata": {},
   "outputs": [],
   "source": [
    "import math\n",
    "#give bottom value\n",
    "print(math.floor(2.3)) \n",
    "print(math.floor(-2.3)) \n",
    "\n",
    "#give closeset to 0\n",
    "print(math.trunc(2.3))\n",
    "print(math.trunc(-2.3))"
   ]
  },
  {
   "cell_type": "code",
   "execution_count": null,
   "id": "db7285b4",
   "metadata": {},
   "outputs": [],
   "source": [
    "print(2**200)"
   ]
  },
  {
   "cell_type": "code",
   "execution_count": null,
   "id": "dd9062da",
   "metadata": {},
   "outputs": [],
   "source": [
    "print(hex(23))\n",
    "print(bin(23))\n",
    "print(oct(23))"
   ]
  },
  {
   "cell_type": "code",
   "execution_count": null,
   "id": "1835684f",
   "metadata": {},
   "outputs": [],
   "source": [
    "print(True is 1) #but in this case true is 1 that both are different in memory\n",
    "print(True + 2) #true mean 1\n",
    "print(True == 1)"
   ]
  },
  {
   "cell_type": "code",
   "execution_count": null,
   "id": "d76f838c",
   "metadata": {},
   "outputs": [],
   "source": [
    "import random\n",
    "print(random.random())\n",
    "print(random.randint(1,10))\n",
    "print(random.randrange(1,10,2))\n",
    "print(random.choice([1,2,3,4,5,6,7,8,9,10]))\n",
    "print(random.choice(range(10)))\n",
    "print(random.choice(range(10,20,2)))\n",
    "print(random.choice(range(10,20,2)))\n",
    "print(random.sample(range(100),10))\n",
    "print(random.sample(range(100),10))"
   ]
  }
 ],
 "metadata": {
  "kernelspec": {
   "display_name": "venv",
   "language": "python",
   "name": "python3"
  },
  "language_info": {
   "codemirror_mode": {
    "name": "ipython",
    "version": 3
   },
   "file_extension": ".py",
   "mimetype": "text/x-python",
   "name": "python",
   "nbconvert_exporter": "python",
   "pygments_lexer": "ipython3",
   "version": "3.13.7"
  }
 },
 "nbformat": 4,
 "nbformat_minor": 5
}
